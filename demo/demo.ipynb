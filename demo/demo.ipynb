{
 "cells": [
  {
   "cell_type": "markdown",
   "metadata": {},
   "source": [
    "# Using get_amm.py\n",
    "\n",
    "## English version\n",
    "\n",
    "This project has one main function called `get_amm()`.\n",
    "\n",
    "To import it, just place the file `get_amm.py` in the same repertory (folder) where you will import it.\n",
    "You can use the CLI of, as for this example, use a notebook to launch the program.\n",
    "\n",
    "`get_amm.py` takes an optional argument, which is the name of the file. Default is `amm.csv`. \n",
    "\n",
    "Since this is used to add source data to an old Exel file in French format, the separator is the semicolon.\n",
    "\n",
    "This CSV file can be imported into Excel with Power Query (or manual copy-paste I guess!).\n",
    "\n",
    "## Version Française (French Version)\n",
    "\n",
    "Ce projet a une fonction principale appelée get_amm().\n",
    "\n",
    "Pour l'importer, il suffit de placer le fichier get_amm.py dans le même répertoire (dossier) où vous l'importerez. Vous pouvez utiliser l'interface en ligne de commande (CLI) ou, comme dans cet exemple, utiliser un notebook pour lancer le programme.\n",
    "\n",
    "get_amm.py prend un argument optionnel, qui est le nom du fichier. Par défaut, il s'agit de amm.csv.\n",
    "\n",
    "Étant donné que cela est utilisé pour ajouter des données source à un ancien fichier Excel au format français, le séparateur est le point-virgule.\n",
    "\n",
    "Ce fichier CSV peut être importé dans Excel avec Power Query (ou copié-collé manuellement, je suppose !)."
   ]
  },
  {
   "cell_type": "code",
   "execution_count": 1,
   "metadata": {},
   "outputs": [],
   "source": [
    "# Import the module\n",
    "\n",
    "from get_amm import get_amm"
   ]
  },
  {
   "cell_type": "code",
   "execution_count": 2,
   "metadata": {},
   "outputs": [
    {
     "data": {
      "text/plain": [
       "0"
      ]
     },
     "execution_count": 2,
     "metadata": {},
     "output_type": "execute_result"
    }
   ],
   "source": [
    "# Execute the function\n",
    "get_amm()"
   ]
  }
 ],
 "metadata": {
  "kernelspec": {
   "display_name": "LOW",
   "language": "python",
   "name": "python3"
  },
  "language_info": {
   "codemirror_mode": {
    "name": "ipython",
    "version": 3
   },
   "file_extension": ".py",
   "mimetype": "text/x-python",
   "name": "python",
   "nbconvert_exporter": "python",
   "pygments_lexer": "ipython3",
   "version": "3.11.5"
  }
 },
 "nbformat": 4,
 "nbformat_minor": 2
}
